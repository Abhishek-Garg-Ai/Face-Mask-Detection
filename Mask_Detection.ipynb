{
 "cells": [
  {
   "cell_type": "markdown",
   "metadata": {},
   "source": [
    "# Data Preprocessing"
   ]
  },
  {
   "cell_type": "code",
   "execution_count": 1,
   "metadata": {},
   "outputs": [
    {
     "data": {
      "text/plain": [
       "{'without_mask': 0, 'with_mask': 1}"
      ]
     },
     "execution_count": 1,
     "metadata": {},
     "output_type": "execute_result"
    }
   ],
   "source": [
    "import cv2,os\n",
    "#creating dict of category of data\n",
    "data_path='D:/Minor Project Dataset'\n",
    "categories=os.listdir(data_path)\n",
    "categories #['without_mask', 'with_mask']\n",
    "labels=[i for i in range(len(categories))]\n",
    "labels #[0,1]\n",
    "label_dict=dict(zip(categories,labels))\n",
    "label_dict"
   ]
  },
  {
   "cell_type": "code",
   "execution_count": 2,
   "metadata": {},
   "outputs": [],
   "source": [
    "img_size=100\n",
    "data=[]\n",
    "target=[]\n",
    "\n",
    "for category in categories:\n",
    "    folder_path=os.path.join(data_path,category)#it will join folder path in data path\n",
    "    #print(folder_path)#1.D:/Minor Project Dataset\\without_mask 2.D:/Minor Project Dataset\\with_mask\n",
    "    img_names=os.listdir(folder_path)#it will returns all img name in folder\n",
    "    \n",
    "    for img_name in img_names:\n",
    "        img_path=os.path.join(folder_path,img_name)#get the path of image\n",
    "        img=cv2.imread(img_path)\n",
    "        \n",
    "        try:\n",
    "            gray=cv2.cvtColor(img,cv2.COLOR_BGR2GRAY)#converting the image into gray scale\n",
    "            #converting the gray scale into 100X100 since we need to common size for all the images\n",
    "            resized=cv2.resize(gray,(img_size,img_size))\n",
    "            data.append(resized)\n",
    "            target.append(label_dict[category])\n",
    "            #appending the image and the label into the list(dataset)\n",
    "            \n",
    "        except Exception as e:\n",
    "            print('Exception: ',e)"
   ]
  },
  {
   "cell_type": "code",
   "execution_count": 9,
   "metadata": {},
   "outputs": [],
   "source": [
    "import numpy as np\n",
    "data=np.array(data)/255.0#converting matrix values between 0 to 1\n",
    "data=np.reshape(data,(data.shape[0],img_size,img_size,1))#reshaping array for CNN (layer as NUM of Img,H,W,Channel)\n",
    "\n"
   ]
  },
  {
   "cell_type": "code",
   "execution_count": 11,
   "metadata": {},
   "outputs": [],
   "source": [
    "import tensorflow as tf\n",
    "from tensorflow.keras.utils import to_categorical\n",
    "#new_target=to_Categorical(target)"
   ]
  },
  {
   "cell_type": "code",
   "execution_count": 15,
   "metadata": {},
   "outputs": [
    {
     "data": {
      "text/plain": [
       "array([[1., 0.],\n",
       "       [1., 0.],\n",
       "       [1., 0.],\n",
       "       ...,\n",
       "       [0., 1.],\n",
       "       [0., 1.],\n",
       "       [0., 1.]], dtype=float32)"
      ]
     },
     "execution_count": 15,
     "metadata": {},
     "output_type": "execute_result"
    }
   ],
   "source": [
    "new_target=tf.keras.utils.to_categorical(target, num_classes=None, dtype='float32')\n",
    "new_target"
   ]
  },
  {
   "cell_type": "code",
   "execution_count": 31,
   "metadata": {},
   "outputs": [],
   "source": [
    "np.save('data',data)\n",
    "np.save('target',new_target)"
   ]
  },
  {
   "cell_type": "markdown",
   "metadata": {},
   "source": [
    "# Covolutional Neuaral Network"
   ]
  },
  {
   "cell_type": "code",
   "execution_count": 1,
   "metadata": {},
   "outputs": [],
   "source": [
    "import numpy as np\n",
    "data=np.load('data.npy')\n",
    "target=np.load('target.npy')"
   ]
  },
  {
   "cell_type": "code",
   "execution_count": 7,
   "metadata": {},
   "outputs": [],
   "source": [
    "import tensorflow as tf\n",
    "from tensorflow.keras.models import Sequential\n",
    "from tensorflow.keras.layers import Dense,MaxPooling2D,Conv2D\n",
    "from tensorflow.keras.layers import Dropout, Flatten"
   ]
  },
  {
   "cell_type": "code",
   "execution_count": 8,
   "metadata": {},
   "outputs": [
    {
     "name": "stdout",
     "output_type": "stream",
     "text": [
      "Model: \"sequential_1\"\n",
      "_________________________________________________________________\n",
      "Layer (type)                 Output Shape              Param #   \n",
      "=================================================================\n",
      "conv2d_2 (Conv2D)            (None, 98, 98, 200)       2000      \n",
      "_________________________________________________________________\n",
      "max_pooling2d_2 (MaxPooling2 (None, 49, 49, 200)       0         \n",
      "_________________________________________________________________\n",
      "conv2d_3 (Conv2D)            (None, 47, 47, 100)       180100    \n",
      "_________________________________________________________________\n",
      "max_pooling2d_3 (MaxPooling2 (None, 23, 23, 100)       0         \n",
      "_________________________________________________________________\n",
      "flatten_1 (Flatten)          (None, 52900)             0         \n",
      "_________________________________________________________________\n",
      "dropout_1 (Dropout)          (None, 52900)             0         \n",
      "_________________________________________________________________\n",
      "dense_2 (Dense)              (None, 50)                2645050   \n",
      "_________________________________________________________________\n",
      "dense_3 (Dense)              (None, 2)                 102       \n",
      "=================================================================\n",
      "Total params: 2,827,252\n",
      "Trainable params: 2,827,252\n",
      "Non-trainable params: 0\n",
      "_________________________________________________________________\n"
     ]
    }
   ],
   "source": [
    "model=Sequential()\n",
    "#first CNN Layer\n",
    "model.add(Conv2D(200,(3,3),input_shape=(100,100,1),activation='relu'))\n",
    "model.add(MaxPooling2D(2))\n",
    "\n",
    "#Second CNN Layer\n",
    "model.add(Conv2D(100,(3,3),activation='relu'))\n",
    "model.add(MaxPooling2D(2))\n",
    "\n",
    "#flattening\n",
    "model.add(Flatten())\n",
    "model.add(Dropout(0.5))\n",
    "\n",
    "#Full Connection\n",
    "model.add(Dense(50,activation='relu'))\n",
    "model.add(Dense(2,activation='softmax'))\n",
    "model.summary()"
   ]
  },
  {
   "cell_type": "code",
   "execution_count": 9,
   "metadata": {},
   "outputs": [],
   "source": [
    "model.compile(loss='categorical_crossentropy',optimizer='adam',metrics=['accuracy'])"
   ]
  },
  {
   "cell_type": "code",
   "execution_count": 10,
   "metadata": {},
   "outputs": [],
   "source": [
    "from sklearn.model_selection import train_test_split\n",
    "\n",
    "train_data,test_data,train_target,test_target=train_test_split(data,target,test_size=0.1)"
   ]
  },
  {
   "cell_type": "code",
   "execution_count": 11,
   "metadata": {},
   "outputs": [
    {
     "name": "stdout",
     "output_type": "stream",
     "text": [
      "Train on 990 samples, validate on 248 samples\n",
      "Epoch 1/20\n",
      "990/990 [==============================] - 276s 278ms/sample - loss: 0.7875 - acc: 0.5182 - val_loss: 0.6901 - val_acc: 0.4637\n",
      "Epoch 2/20\n",
      "990/990 [==============================] - 256s 259ms/sample - loss: 0.6643 - acc: 0.5899 - val_loss: 0.6170 - val_acc: 0.7218\n",
      "Epoch 3/20\n",
      "990/990 [==============================] - 244s 246ms/sample - loss: 0.5616 - acc: 0.7212 - val_loss: 0.4597 - val_acc: 0.8065\n",
      "Epoch 4/20\n",
      "990/990 [==============================] - 242s 244ms/sample - loss: 0.4641 - acc: 0.8020 - val_loss: 0.4192 - val_acc: 0.8710\n",
      "Epoch 5/20\n",
      "990/990 [==============================] - 248s 250ms/sample - loss: 0.3355 - acc: 0.8747 - val_loss: 0.2481 - val_acc: 0.9234\n",
      "Epoch 6/20\n",
      "990/990 [==============================] - 244s 247ms/sample - loss: 0.2416 - acc: 0.9081 - val_loss: 0.2048 - val_acc: 0.9435\n",
      "Epoch 7/20\n",
      "990/990 [==============================] - 247s 249ms/sample - loss: 0.1934 - acc: 0.9303 - val_loss: 0.1982 - val_acc: 0.9395\n",
      "Epoch 8/20\n",
      "990/990 [==============================] - 241s 244ms/sample - loss: 0.1430 - acc: 0.9465 - val_loss: 0.1350 - val_acc: 0.9476\n",
      "Epoch 9/20\n",
      "990/990 [==============================] - 241s 243ms/sample - loss: 0.1262 - acc: 0.9525 - val_loss: 0.1155 - val_acc: 0.9637\n",
      "Epoch 10/20\n",
      "990/990 [==============================] - 244s 246ms/sample - loss: 0.1045 - acc: 0.9677 - val_loss: 0.1245 - val_acc: 0.9556\n",
      "Epoch 11/20\n",
      "990/990 [==============================] - 255s 258ms/sample - loss: 0.0800 - acc: 0.9707 - val_loss: 0.0975 - val_acc: 0.9637\n",
      "Epoch 12/20\n",
      "990/990 [==============================] - 252s 254ms/sample - loss: 0.0767 - acc: 0.9717 - val_loss: 0.0955 - val_acc: 0.9677\n",
      "Epoch 13/20\n",
      "990/990 [==============================] - 257s 260ms/sample - loss: 0.0772 - acc: 0.9697 - val_loss: 0.0812 - val_acc: 0.9597\n",
      "Epoch 14/20\n",
      "990/990 [==============================] - 260s 263ms/sample - loss: 0.0449 - acc: 0.9818 - val_loss: 0.1004 - val_acc: 0.9677\n",
      "Epoch 15/20\n",
      "990/990 [==============================] - 260s 263ms/sample - loss: 0.0546 - acc: 0.9747 - val_loss: 0.0970 - val_acc: 0.9597\n",
      "Epoch 16/20\n",
      "990/990 [==============================] - 254s 257ms/sample - loss: 0.0365 - acc: 0.9869 - val_loss: 0.0958 - val_acc: 0.9637\n",
      "Epoch 17/20\n",
      "990/990 [==============================] - 245s 247ms/sample - loss: 0.0306 - acc: 0.9899 - val_loss: 0.1012 - val_acc: 0.9677\n",
      "Epoch 18/20\n",
      "990/990 [==============================] - 244s 246ms/sample - loss: 0.0213 - acc: 0.9949 - val_loss: 0.1089 - val_acc: 0.9677\n",
      "Epoch 19/20\n",
      "990/990 [==============================] - 246s 249ms/sample - loss: 0.0338 - acc: 0.9879 - val_loss: 0.1123 - val_acc: 0.9597\n",
      "Epoch 20/20\n",
      "990/990 [==============================] - 292s 295ms/sample - loss: 0.0296 - acc: 0.9879 - val_loss: 0.0916 - val_acc: 0.9677\n"
     ]
    }
   ],
   "source": [
    "checkpoint=tf.keras.callbacks.ModelCheckpoint('Model-{epoch:03d}.model',monitor='val_loss',verbose=0,save_best_only=True,mode='auto')\n",
    "history=model.fit(train_data,train_target,epochs=20,callbacks=[checkpoint],validation_split=0.2)"
   ]
  },
  {
   "cell_type": "code",
   "execution_count": 3,
   "metadata": {},
   "outputs": [
    {
     "name": "stderr",
     "output_type": "stream",
     "text": [
      "C:\\Users\\Abhi\\anaconda3\\lib\\site-packages\\tensorflow\\python\\framework\\dtypes.py:516: FutureWarning: Passing (type, 1) or '1type' as a synonym of type is deprecated; in a future version of numpy, it will be understood as (type, (1,)) / '(1,)type'.\n",
      "  _np_qint8 = np.dtype([(\"qint8\", np.int8, 1)])\n",
      "C:\\Users\\Abhi\\anaconda3\\lib\\site-packages\\tensorflow\\python\\framework\\dtypes.py:517: FutureWarning: Passing (type, 1) or '1type' as a synonym of type is deprecated; in a future version of numpy, it will be understood as (type, (1,)) / '(1,)type'.\n",
      "  _np_quint8 = np.dtype([(\"quint8\", np.uint8, 1)])\n",
      "C:\\Users\\Abhi\\anaconda3\\lib\\site-packages\\tensorflow\\python\\framework\\dtypes.py:518: FutureWarning: Passing (type, 1) or '1type' as a synonym of type is deprecated; in a future version of numpy, it will be understood as (type, (1,)) / '(1,)type'.\n",
      "  _np_qint16 = np.dtype([(\"qint16\", np.int16, 1)])\n",
      "C:\\Users\\Abhi\\anaconda3\\lib\\site-packages\\tensorflow\\python\\framework\\dtypes.py:519: FutureWarning: Passing (type, 1) or '1type' as a synonym of type is deprecated; in a future version of numpy, it will be understood as (type, (1,)) / '(1,)type'.\n",
      "  _np_quint16 = np.dtype([(\"quint16\", np.uint16, 1)])\n",
      "C:\\Users\\Abhi\\anaconda3\\lib\\site-packages\\tensorflow\\python\\framework\\dtypes.py:520: FutureWarning: Passing (type, 1) or '1type' as a synonym of type is deprecated; in a future version of numpy, it will be understood as (type, (1,)) / '(1,)type'.\n",
      "  _np_qint32 = np.dtype([(\"qint32\", np.int32, 1)])\n",
      "C:\\Users\\Abhi\\anaconda3\\lib\\site-packages\\tensorflow\\python\\framework\\dtypes.py:525: FutureWarning: Passing (type, 1) or '1type' as a synonym of type is deprecated; in a future version of numpy, it will be understood as (type, (1,)) / '(1,)type'.\n",
      "  np_resource = np.dtype([(\"resource\", np.ubyte, 1)])\n",
      "C:\\Users\\Abhi\\anaconda3\\lib\\site-packages\\tensorboard\\compat\\tensorflow_stub\\dtypes.py:541: FutureWarning: Passing (type, 1) or '1type' as a synonym of type is deprecated; in a future version of numpy, it will be understood as (type, (1,)) / '(1,)type'.\n",
      "  _np_qint8 = np.dtype([(\"qint8\", np.int8, 1)])\n",
      "C:\\Users\\Abhi\\anaconda3\\lib\\site-packages\\tensorboard\\compat\\tensorflow_stub\\dtypes.py:542: FutureWarning: Passing (type, 1) or '1type' as a synonym of type is deprecated; in a future version of numpy, it will be understood as (type, (1,)) / '(1,)type'.\n",
      "  _np_quint8 = np.dtype([(\"quint8\", np.uint8, 1)])\n",
      "C:\\Users\\Abhi\\anaconda3\\lib\\site-packages\\tensorboard\\compat\\tensorflow_stub\\dtypes.py:543: FutureWarning: Passing (type, 1) or '1type' as a synonym of type is deprecated; in a future version of numpy, it will be understood as (type, (1,)) / '(1,)type'.\n",
      "  _np_qint16 = np.dtype([(\"qint16\", np.int16, 1)])\n",
      "C:\\Users\\Abhi\\anaconda3\\lib\\site-packages\\tensorboard\\compat\\tensorflow_stub\\dtypes.py:544: FutureWarning: Passing (type, 1) or '1type' as a synonym of type is deprecated; in a future version of numpy, it will be understood as (type, (1,)) / '(1,)type'.\n",
      "  _np_quint16 = np.dtype([(\"quint16\", np.uint16, 1)])\n",
      "C:\\Users\\Abhi\\anaconda3\\lib\\site-packages\\tensorboard\\compat\\tensorflow_stub\\dtypes.py:545: FutureWarning: Passing (type, 1) or '1type' as a synonym of type is deprecated; in a future version of numpy, it will be understood as (type, (1,)) / '(1,)type'.\n",
      "  _np_qint32 = np.dtype([(\"qint32\", np.int32, 1)])\n",
      "C:\\Users\\Abhi\\anaconda3\\lib\\site-packages\\tensorboard\\compat\\tensorflow_stub\\dtypes.py:550: FutureWarning: Passing (type, 1) or '1type' as a synonym of type is deprecated; in a future version of numpy, it will be understood as (type, (1,)) / '(1,)type'.\n",
      "  np_resource = np.dtype([(\"resource\", np.ubyte, 1)])\n"
     ]
    }
   ],
   "source": [
    "from tensorflow import keras\n",
    "import cv2 \n",
    "import numpy as np"
   ]
  },
  {
   "cell_type": "code",
   "execution_count": 5,
   "metadata": {},
   "outputs": [
    {
     "name": "stdout",
     "output_type": "stream",
     "text": [
      "WARNING:tensorflow:From C:\\Users\\Abhi\\anaconda3\\lib\\site-packages\\tensorflow\\python\\ops\\init_ops.py:97: calling GlorotUniform.__init__ (from tensorflow.python.ops.init_ops) with dtype is deprecated and will be removed in a future version.\n",
      "Instructions for updating:\n",
      "Call initializer instance with the dtype argument instead of passing it to the constructor\n",
      "WARNING:tensorflow:From C:\\Users\\Abhi\\anaconda3\\lib\\site-packages\\tensorflow\\python\\ops\\init_ops.py:1251: calling VarianceScaling.__init__ (from tensorflow.python.ops.init_ops) with dtype is deprecated and will be removed in a future version.\n",
      "Instructions for updating:\n",
      "Call initializer instance with the dtype argument instead of passing it to the constructor\n",
      "WARNING:tensorflow:From C:\\Users\\Abhi\\anaconda3\\lib\\site-packages\\tensorflow\\python\\ops\\init_ops.py:97: calling Zeros.__init__ (from tensorflow.python.ops.init_ops) with dtype is deprecated and will be removed in a future version.\n",
      "Instructions for updating:\n",
      "Call initializer instance with the dtype argument instead of passing it to the constructor\n"
     ]
    }
   ],
   "source": [
    "model=keras.models.load_model(\"Model-013.model\")\n",
    "face_clsfr=cv2.CascadeClassifier('haarcascade_frontalface_default.xml')\n",
    "source=cv2.VideoCapture(0)\n",
    "labels_dict={0:'Without Mask',1:'Mask'}\n",
    "color_dict={0:(0,0,255),1:(0,255,0)}"
   ]
  },
  {
   "cell_type": "code",
   "execution_count": 6,
   "metadata": {},
   "outputs": [
    {
     "name": "stdout",
     "output_type": "stream",
     "text": [
      "[[0.99474156 0.0052584 ]]\n",
      "[[0.9951999  0.00480002]]\n",
      "[[0.9953831  0.00461687]]\n",
      "[[0.9955723  0.00442762]]\n",
      "[[0.99560696 0.004393  ]]\n",
      "[[0.9948085 0.0051915]]\n",
      "[[0.9957917 0.0042083]]\n",
      "[[0.995856   0.00414403]]\n",
      "[[0.99556315 0.00443692]]\n",
      "[[0.9953851  0.00461491]]\n",
      "[[0.9954515  0.00454846]]\n",
      "[[0.9954829  0.00451704]]\n",
      "[[0.00439949 0.99560046]]\n",
      "[[0.9958924  0.00410761]]\n",
      "[[0.970519   0.02948103]]\n",
      "[[0.99318236 0.00681758]]\n",
      "[[0.99334055 0.00665943]]\n",
      "[[0.99493754 0.00506245]]\n",
      "[[0.99289787 0.00710214]]\n",
      "[[0.9939666  0.00603341]]\n",
      "[[0.9931773 0.0068227]]\n",
      "[[0.99339795 0.00660203]]\n",
      "[[0.99352735 0.00647264]]\n",
      "[[0.99371415 0.00628586]]\n",
      "[[0.9936566  0.00634336]]\n",
      "[[0.9940539 0.0059461]]\n",
      "[[0.9938823 0.0061177]]\n",
      "[[0.99418455 0.00581545]]\n",
      "[[0.99336183 0.00663821]]\n",
      "[[0.9943573  0.00564271]]\n",
      "[[0.99423885 0.00576115]]\n",
      "[[0.9940467  0.00595328]]\n",
      "[[0.99399054 0.00600945]]\n",
      "[[0.9942889  0.00571109]]\n",
      "[[0.9947188  0.00528113]]\n",
      "[[0.9933095 0.0066905]]\n",
      "[[0.99328387 0.00671609]]\n",
      "[[0.99390644 0.00609359]]\n",
      "[[0.99362636 0.00637364]]\n",
      "[[0.9933965 0.0066035]]\n",
      "[[0.9937354  0.00626469]]\n",
      "[[0.99479395 0.00520605]]\n",
      "[[0.9937889  0.00621107]]\n",
      "[[0.9937627  0.00623734]]\n",
      "[[0.99400795 0.00599205]]\n",
      "[[0.993871   0.00612897]]\n",
      "[[0.99413526 0.0058647 ]]\n",
      "[[0.9941444  0.00585567]]\n",
      "[[0.99473155 0.00526839]]\n",
      "[[0.9936248  0.00637513]]\n",
      "[[0.9938308  0.00616921]]\n",
      "[[0.99442035 0.0055796 ]]\n",
      "[[0.9940842  0.00591586]]\n",
      "[[0.99442756 0.00557244]]\n",
      "[[0.99426913 0.00573085]]\n",
      "[[0.99396086 0.00603917]]\n",
      "[[0.9932294  0.00677059]]\n",
      "[[0.99416214 0.00583787]]\n",
      "[[0.9940592  0.00594086]]\n",
      "[[0.99448156 0.00551845]]\n",
      "[[0.9942468  0.00575329]]\n",
      "[[0.00252198 0.99747807]]\n",
      "[[0.99276525 0.00723477]]\n",
      "[[0.99336535 0.00663458]]\n",
      "[[0.9947573 0.0052427]]\n",
      "[[0.99424404 0.005756  ]]\n",
      "[[0.99311286 0.00688709]]\n",
      "[[0.00228133 0.9977187 ]]\n",
      "[[0.9944395  0.00556057]]\n",
      "[[0.9938001  0.00619995]]\n",
      "[[0.9945128 0.0054872]]\n",
      "[[0.9938252  0.00617484]]\n",
      "[[0.99396306 0.00603696]]\n",
      "[[0.9928542  0.00714579]]\n",
      "[[0.9935434  0.00645663]]\n",
      "[[0.99447626 0.00552378]]\n",
      "[[0.99293035 0.00706971]]\n",
      "[[0.9934116  0.00658834]]\n",
      "[[0.99276066 0.00723938]]\n",
      "[[0.9938871  0.00611289]]\n",
      "[[0.993778   0.00622208]]\n",
      "[[0.99392104 0.00607901]]\n",
      "[[0.99370027 0.00629975]]\n",
      "[[0.9940475  0.00595243]]\n",
      "[[0.9943293  0.00567078]]\n",
      "[[0.9935395  0.00646046]]\n",
      "[[0.9941948  0.00580526]]\n",
      "[[0.9944857  0.00551435]]\n",
      "[[0.9940509  0.00594908]]\n",
      "[[0.99368876 0.00631125]]\n",
      "[[0.99391174 0.00608832]]\n",
      "[[0.99388087 0.00611916]]\n",
      "[[0.9941399  0.00586008]]\n",
      "[[0.9944471  0.00555284]]\n",
      "[[0.9941975 0.0058025]]\n",
      "[[0.99418396 0.00581601]]\n",
      "[[0.9939758  0.00602421]]\n",
      "[[0.99413896 0.00586108]]\n",
      "[[0.99365777 0.00634218]]\n",
      "[[0.99427706 0.00572293]]\n",
      "[[0.9943228  0.00567719]]\n",
      "[[0.99420255 0.0057974 ]]\n",
      "[[0.99389195 0.00610811]]\n",
      "[[0.99330324 0.0066967 ]]\n",
      "[[0.9939394  0.00606058]]\n",
      "[[0.99400395 0.00599601]]\n",
      "[[0.99427444 0.00572557]]\n",
      "[[0.99479795 0.00520203]]\n",
      "[[0.99433327 0.00566669]]\n",
      "[[0.9941016  0.00589841]]\n",
      "[[0.9942151  0.00578498]]\n",
      "[[0.99356186 0.0064381 ]]\n",
      "[[0.9930442  0.00695581]]\n",
      "[[0.9927941  0.00720587]]\n",
      "[[0.9940123  0.00598771]]\n",
      "[[0.99320495 0.00679502]]\n",
      "[[0.00392688 0.9960731 ]]\n",
      "[[0.99441296 0.00558705]]\n",
      "[[0.993982   0.00601799]]\n",
      "[[0.994334   0.00566607]]\n",
      "[[0.9940386  0.00596143]]\n",
      "[[0.9926967  0.00730326]]\n",
      "[[0.99425405 0.0057459 ]]\n",
      "[[0.99419725 0.00580268]]\n",
      "[[0.9934906  0.00650949]]\n",
      "[[0.9936958  0.00630425]]\n",
      "[[0.9940842  0.00591582]]\n",
      "[[0.99284655 0.00715344]]\n",
      "[[0.9941513  0.00584871]]\n",
      "[[0.9941816  0.00581845]]\n",
      "[[0.9933528  0.00664723]]\n",
      "[[0.9938892  0.00611073]]\n",
      "[[0.99330986 0.00669013]]\n",
      "[[0.9944825  0.00551745]]\n",
      "[[0.9936931  0.00630688]]\n",
      "[[0.9941274  0.00587261]]\n",
      "[[0.9943089  0.00569111]]\n",
      "[[0.9945063  0.00549366]]\n",
      "[[0.994028   0.00597204]]\n",
      "[[0.9938958  0.00610413]]\n",
      "[[0.99437463 0.00562541]]\n",
      "[[0.9928658 0.0071342]]\n",
      "[[0.9927135  0.00728646]]\n",
      "[[0.9931225  0.00687748]]\n",
      "[[0.99284667 0.00715333]]\n",
      "[[0.99428767 0.00571231]]\n",
      "[[0.9948426  0.00515748]]\n",
      "[[0.9940831  0.00591688]]\n",
      "[[0.9941673  0.00583263]]\n",
      "[[0.99389267 0.0061073 ]]\n",
      "[[0.9940626  0.00593739]]\n"
     ]
    }
   ],
   "source": [
    "while(True):\n",
    "    \n",
    "    ret,img=source.read()\n",
    "    gray=cv2.cvtColor(img,cv2.COLOR_BGR2GRAY)\n",
    "    faces=face_clsfr.detectMultiScale(gray,1.3,5)\n",
    "    for x,y,w,h in faces:\n",
    "        face_img=gray[y:y+w,x:x+w]\n",
    "        resized=cv2.resize(face_img,(100,100))\n",
    "        normalized=resized/255.0\n",
    "        reshaped=np.reshape(normalized,(1,100,100,1))\n",
    "        result=model.predict(reshaped)\n",
    "        print(result)\n",
    "        label=np.argmax(result,axis=1)[0]\n",
    "        \n",
    "        cv2.rectangle(img,(x,y),(x+w,y+h),color_dict[label],2)\n",
    "        cv2.rectangle(img,(x,y-40),(x+w,y),color_dict[label],-1)\n",
    "        cv2.putText(img,labels_dict[label],(x,y-10),cv2.FONT_HERSHEY_SIMPLEX,0.8,(255,255,255),2)\n",
    "        \n",
    "    cv2.imshow('LIVE',img)\n",
    "    key=cv2.waitKey(1)\n",
    "    \n",
    "    if(key==27):\n",
    "        break\n",
    "        \n",
    "cv2.destroyAllWindows()\n",
    "source.release()\n"
   ]
  },
  {
   "cell_type": "code",
   "execution_count": 45,
   "metadata": {},
   "outputs": [],
   "source": [
    "model=keras.models.load_model(\"Model-012.model\")\n"
   ]
  },
  {
   "cell_type": "code",
   "execution_count": 46,
   "metadata": {},
   "outputs": [],
   "source": [
    "from tensorflow.keras.preprocessing import image\n",
    "import matplotlib.pyplot as plt\n",
    "import numpy as np"
   ]
  },
  {
   "cell_type": "code",
   "execution_count": 43,
   "metadata": {},
   "outputs": [
    {
     "name": "stdout",
     "output_type": "stream",
     "text": [
      "0.99994695 5.3055443e-05\n"
     ]
    },
    {
     "data": {
      "text/plain": [
       "\"if(result[0][0]==0):\\n    title='Cat'\\nelse:\\n    title='Dog'\\nplt.title(title)\\nplt.show()\""
      ]
     },
     "execution_count": 43,
     "metadata": {},
     "output_type": "execute_result"
    },
    {
     "data": {
      "image/png": "[encoded data removed]",
      "text/plain": [
       "<Figure size 432x288 with 1 Axes>"
      ]
     },
     "metadata": {
      "needs_background": "light"
     },
     "output_type": "display_data"
    }
   ],
   "source": [
    "image_path=r\"D:\\Minor Project Dataset\\without_mask\\2.jpg\"\n",
    "#reshaped=np.reshape(normalized,(1,100,100,1))\n",
    "#result=model.predict(reshaped)\n",
    "img=cv2.imread(image_path,1)\n",
    "gray=cv2.cvtColor(img,cv2.COLOR_BGR2GRAY)\n",
    "\n",
    "resized=cv2.resize(gray,(100,100))\n",
    "normalized=resized/255.0\n",
    "reshaped=np.reshape(normalized,(1,100,100,1))\n",
    "result=model.predict(reshaped)\n",
    "print(result[0][0],result[0][1])        \n",
    "    \n",
    "#img = image.load_img(image_path, target_size=(100, 100,1),color_mode=\"grayscale\")\n",
    "plt.imshow(gray)\n",
    "#img = np.expand_dims(resized_img, axis=0)\n",
    "#print(reshaped.shape)\n",
    "#result=model.predict_classes(img)\n",
    "'''if(result[0][0]==0):\n",
    "    title='Cat'\n",
    "else:\n",
    "    title='Dog'\n",
    "plt.title(title)\n",
    "plt.show()'''"
   ]
  },
  {
   "cell_type": "code",
   "execution_count": null,
   "metadata": {},
   "outputs": [],
   "source": [
    "    #ret,img=source.read()\n",
    "    img=cv2.imread(image_path,1)\n",
    "    gray=cv2.cvtColor(img,cv2.COLOR_BGR2GRAY)\n",
    "    faces=face_clsfr.detectMultiScale(gray,1.3,5)\n",
    "    for x,y,w,h in faces:\n",
    "        face_img=gray[y:y+w,x:x+w]\n",
    "        resized=cv2.resize(face_img,(100,100))\n",
    "        normalized=resized/255.0\n",
    "        reshaped=np.reshape(normalized,(1,100,100,1))\n",
    "        result=model.predict(reshaped)\n",
    "        print(result)\n",
    "        label=np.argmax(result,axis=1)[0]\n",
    "        \n",
    "        cv2.rectangle(img,(x,y),(x+w,y+h),color_dict[label],2)\n",
    "        cv2.rectangle(img,(x,y-40),(x+w,y),color_dict[label],-1)\n",
    "        cv2.putText(img,labels_dict[label],(x,y-10),cv2.FONT_HERSHEY_SIMPLEX,0.8,(255,255,255),2)\n",
    "        \n"
   ]
  },
  {
   "cell_type": "code",
   "execution_count": null,
   "metadata": {},
   "outputs": [],
   "source": [
    "img=cv2.imread('D:/Downloads HP/IMG-20200219-WA0044.jpg',0)"
   ]
  }
 ],
 "metadata": {
  "kernelspec": {
   "display_name": "Python 3",
   "language": "python",
   "name": "python3"
  },
  "language_info": {
   "codemirror_mode": {
    "name": "ipython",
    "version": 3
   },
   "file_extension": ".py",
   "mimetype": "text/x-python",
   "name": "python",
   "nbconvert_exporter": "python",
   "pygments_lexer": "ipython3",
   "version": "3.7.6"
  }
 },
 "nbformat": 4,
 "nbformat_minor": 4
}
